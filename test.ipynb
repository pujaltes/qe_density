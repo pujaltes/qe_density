{
 "cells": [
  {
   "cell_type": "code",
   "execution_count": null,
   "metadata": {},
   "outputs": [],
   "source": [
    "import numpy as np\n",
    "import pandas as pd\n",
    "from joblib import Parallel, delayed\n",
    "from pathlib import Path\n",
    "import os\n",
    "from os.path import join as pjoin\n",
    "import csv"
   ]
  },
  {
   "cell_type": "code",
   "execution_count": null,
   "metadata": {},
   "outputs": [],
   "source": [
    "PATH_QM9 = '/home/sp2120/rds/rds-pdb_dist-PDSVOqhVGhM/data/qm9/atom_15_subset'\n",
    "PATH_BASE = '/home/sp2120/rds/rds-pdb_dist-PDSVOqhVGhM/data/qm9'\n",
    "PATH_WORKING = '/home/sp2120/rds/rds-pdb_dist-PDSVOqhVGhM/src/qe_density'"
   ]
  },
  {
   "cell_type": "markdown",
   "metadata": {},
   "source": []
  },
  {
   "cell_type": "code",
   "execution_count": null,
   "metadata": {},
   "outputs": [],
   "source": [
    "train = pd.read_csv(pjoin(PATH_BASE, 'train.csv'))\n",
    "test = pd.read_csv(pjoin(PATH_BASE, 'test.csv'))\n",
    "\n",
    "both = pd.concat([train, test], axis=0, sort=False)\n",
    "both = both.set_index('molecule_name',drop=False)\n",
    "\n",
    "both.sort_index(inplace=True)"
   ]
  },
  {
   "cell_type": "code",
   "execution_count": 36,
   "metadata": {},
   "outputs": [
    {
     "data": {
      "text/html": [
       "<div>\n",
       "<style scoped>\n",
       "    .dataframe tbody tr th:only-of-type {\n",
       "        vertical-align: middle;\n",
       "    }\n",
       "\n",
       "    .dataframe tbody tr th {\n",
       "        vertical-align: top;\n",
       "    }\n",
       "\n",
       "    .dataframe thead th {\n",
       "        text-align: right;\n",
       "    }\n",
       "</style>\n",
       "<table border=\"1\" class=\"dataframe\">\n",
       "  <thead>\n",
       "    <tr style=\"text-align: right;\">\n",
       "      <th></th>\n",
       "      <th>id</th>\n",
       "      <th>molecule_name</th>\n",
       "      <th>atom_index_0</th>\n",
       "      <th>atom_index_1</th>\n",
       "      <th>type</th>\n",
       "      <th>scalar_coupling_constant</th>\n",
       "    </tr>\n",
       "    <tr>\n",
       "      <th>molecule_name</th>\n",
       "      <th></th>\n",
       "      <th></th>\n",
       "      <th></th>\n",
       "      <th></th>\n",
       "      <th></th>\n",
       "      <th></th>\n",
       "    </tr>\n",
       "  </thead>\n",
       "  <tbody>\n",
       "    <tr>\n",
       "      <th>dsgdb9nsd_000001</th>\n",
       "      <td>0</td>\n",
       "      <td>dsgdb9nsd_000001</td>\n",
       "      <td>1</td>\n",
       "      <td>0</td>\n",
       "      <td>1JHC</td>\n",
       "      <td>84.8076</td>\n",
       "    </tr>\n",
       "    <tr>\n",
       "      <th>dsgdb9nsd_000001</th>\n",
       "      <td>1</td>\n",
       "      <td>dsgdb9nsd_000001</td>\n",
       "      <td>1</td>\n",
       "      <td>2</td>\n",
       "      <td>2JHH</td>\n",
       "      <td>-11.2570</td>\n",
       "    </tr>\n",
       "    <tr>\n",
       "      <th>dsgdb9nsd_000001</th>\n",
       "      <td>2</td>\n",
       "      <td>dsgdb9nsd_000001</td>\n",
       "      <td>1</td>\n",
       "      <td>3</td>\n",
       "      <td>2JHH</td>\n",
       "      <td>-11.2548</td>\n",
       "    </tr>\n",
       "    <tr>\n",
       "      <th>dsgdb9nsd_000001</th>\n",
       "      <td>3</td>\n",
       "      <td>dsgdb9nsd_000001</td>\n",
       "      <td>1</td>\n",
       "      <td>4</td>\n",
       "      <td>2JHH</td>\n",
       "      <td>-11.2543</td>\n",
       "    </tr>\n",
       "    <tr>\n",
       "      <th>dsgdb9nsd_000001</th>\n",
       "      <td>4</td>\n",
       "      <td>dsgdb9nsd_000001</td>\n",
       "      <td>2</td>\n",
       "      <td>0</td>\n",
       "      <td>1JHC</td>\n",
       "      <td>84.8074</td>\n",
       "    </tr>\n",
       "    <tr>\n",
       "      <th>...</th>\n",
       "      <td>...</td>\n",
       "      <td>...</td>\n",
       "      <td>...</td>\n",
       "      <td>...</td>\n",
       "      <td>...</td>\n",
       "      <td>...</td>\n",
       "    </tr>\n",
       "    <tr>\n",
       "      <th>dsgdb9nsd_133885</th>\n",
       "      <td>7164234</td>\n",
       "      <td>dsgdb9nsd_133885</td>\n",
       "      <td>12</td>\n",
       "      <td>1</td>\n",
       "      <td>3JHN</td>\n",
       "      <td>NaN</td>\n",
       "    </tr>\n",
       "    <tr>\n",
       "      <th>dsgdb9nsd_133885</th>\n",
       "      <td>7164235</td>\n",
       "      <td>dsgdb9nsd_133885</td>\n",
       "      <td>12</td>\n",
       "      <td>2</td>\n",
       "      <td>2JHC</td>\n",
       "      <td>NaN</td>\n",
       "    </tr>\n",
       "    <tr>\n",
       "      <th>dsgdb9nsd_133885</th>\n",
       "      <td>7164236</td>\n",
       "      <td>dsgdb9nsd_133885</td>\n",
       "      <td>12</td>\n",
       "      <td>3</td>\n",
       "      <td>1JHC</td>\n",
       "      <td>NaN</td>\n",
       "    </tr>\n",
       "    <tr>\n",
       "      <th>dsgdb9nsd_133885</th>\n",
       "      <td>7164238</td>\n",
       "      <td>dsgdb9nsd_133885</td>\n",
       "      <td>12</td>\n",
       "      <td>6</td>\n",
       "      <td>3JHC</td>\n",
       "      <td>NaN</td>\n",
       "    </tr>\n",
       "    <tr>\n",
       "      <th>dsgdb9nsd_133885</th>\n",
       "      <td>7164265</td>\n",
       "      <td>dsgdb9nsd_133885</td>\n",
       "      <td>15</td>\n",
       "      <td>8</td>\n",
       "      <td>1JHC</td>\n",
       "      <td>NaN</td>\n",
       "    </tr>\n",
       "  </tbody>\n",
       "</table>\n",
       "<p>7164266 rows × 6 columns</p>\n",
       "</div>"
      ],
      "text/plain": [
       "                       id     molecule_name  atom_index_0  atom_index_1  type  \\\n",
       "molecule_name                                                                   \n",
       "dsgdb9nsd_000001        0  dsgdb9nsd_000001             1             0  1JHC   \n",
       "dsgdb9nsd_000001        1  dsgdb9nsd_000001             1             2  2JHH   \n",
       "dsgdb9nsd_000001        2  dsgdb9nsd_000001             1             3  2JHH   \n",
       "dsgdb9nsd_000001        3  dsgdb9nsd_000001             1             4  2JHH   \n",
       "dsgdb9nsd_000001        4  dsgdb9nsd_000001             2             0  1JHC   \n",
       "...                   ...               ...           ...           ...   ...   \n",
       "dsgdb9nsd_133885  7164234  dsgdb9nsd_133885            12             1  3JHN   \n",
       "dsgdb9nsd_133885  7164235  dsgdb9nsd_133885            12             2  2JHC   \n",
       "dsgdb9nsd_133885  7164236  dsgdb9nsd_133885            12             3  1JHC   \n",
       "dsgdb9nsd_133885  7164238  dsgdb9nsd_133885            12             6  3JHC   \n",
       "dsgdb9nsd_133885  7164265  dsgdb9nsd_133885            15             8  1JHC   \n",
       "\n",
       "                  scalar_coupling_constant  \n",
       "molecule_name                               \n",
       "dsgdb9nsd_000001                   84.8076  \n",
       "dsgdb9nsd_000001                  -11.2570  \n",
       "dsgdb9nsd_000001                  -11.2548  \n",
       "dsgdb9nsd_000001                  -11.2543  \n",
       "dsgdb9nsd_000001                   84.8074  \n",
       "...                                    ...  \n",
       "dsgdb9nsd_133885                       NaN  \n",
       "dsgdb9nsd_133885                       NaN  \n",
       "dsgdb9nsd_133885                       NaN  \n",
       "dsgdb9nsd_133885                       NaN  \n",
       "dsgdb9nsd_133885                       NaN  \n",
       "\n",
       "[7164266 rows x 6 columns]"
      ]
     },
     "execution_count": 36,
     "metadata": {},
     "output_type": "execute_result"
    }
   ],
   "source": [
    "both"
   ]
  },
  {
   "cell_type": "code",
   "execution_count": 1,
   "metadata": {},
   "outputs": [
    {
     "ename": "NameError",
     "evalue": "name 'parse_xyz' is not defined",
     "output_type": "error",
     "traceback": [
      "\u001b[0;31m---------------------------------------------------------------------------\u001b[0m",
      "\u001b[0;31mNameError\u001b[0m                                 Traceback (most recent call last)",
      "\u001b[1;32m/home/sp2120/rds/rds-pdb_dist-PDSVOqhVGhM/src/qe_density/test.ipynb Cell 5\u001b[0m line \u001b[0;36m1\n\u001b[0;32m----> <a href='vscode-notebook-cell://ssh-remote%2Bicelake/home/sp2120/rds/rds-pdb_dist-PDSVOqhVGhM/src/qe_density/test.ipynb#W4sdnNjb2RlLXJlbW90ZQ%3D%3D?line=0'>1</a>\u001b[0m parse_xyz(pjoin(PATH_QM9, \u001b[39m'\u001b[39m\u001b[39mdsgdb9nsd_000022.xyz\u001b[39m\u001b[39m'\u001b[39m))\n",
      "\u001b[0;31mNameError\u001b[0m: name 'parse_xyz' is not defined"
     ]
    }
   ],
   "source": [
    "parse_xyz(pjoin(PATH_QM9, 'dsgdb9nsd_000022.xyz'))"
   ]
  },
  {
   "cell_type": "code",
   "execution_count": 48,
   "metadata": {},
   "outputs": [],
   "source": [
    "out = {}\n",
    "for f in all_files:\n",
    "    out[f] = parse_xyz(pjoin(PATH_QM9, f))"
   ]
  },
  {
   "cell_type": "code",
   "execution_count": 50,
   "metadata": {},
   "outputs": [],
   "source": [
    "num_atoms = [x['num_atoms'] for x in out.values()]  "
   ]
  },
  {
   "cell_type": "code",
   "execution_count": 52,
   "metadata": {},
   "outputs": [
    {
     "data": {
      "text/plain": [
       "15"
      ]
     },
     "execution_count": 52,
     "metadata": {},
     "output_type": "execute_result"
    }
   ],
   "source": [
    "max(num_atoms"
   ]
  }
 ],
 "metadata": {
  "kernelspec": {
   "display_name": "qe_density",
   "language": "python",
   "name": "python3"
  },
  "language_info": {
   "codemirror_mode": {
    "name": "ipython",
    "version": 3
   },
   "file_extension": ".py",
   "mimetype": "text/x-python",
   "name": "python",
   "nbconvert_exporter": "python",
   "pygments_lexer": "ipython3",
   "version": "3.9.18"
  }
 },
 "nbformat": 4,
 "nbformat_minor": 2
}
