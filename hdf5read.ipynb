{
 "cells": [
  {
   "cell_type": "code",
   "execution_count": null,
   "id": "c656807e-920d-469f-82d8-f0e84b8f01b0",
   "metadata": {},
   "outputs": [],
   "source": [
    "!pip install ."
   ]
  },
  {
   "cell_type": "code",
   "execution_count": 1,
   "id": "ac05f043-6b2b-4d94-8c58-88be1c814ca4",
   "metadata": {},
   "outputs": [],
   "source": [
    "import qe_density_reader.reader as qer\n",
    "import numpy as np"
   ]
  },
  {
   "cell_type": "code",
   "execution_count": 2,
   "id": "2ab088a9-6429-4ed7-b507-f1ddf19c6d41",
   "metadata": {},
   "outputs": [
    {
     "name": "stdout",
     "output_type": "stream",
     "text": [
      "fname=./test_c.hdf5:\n",
      "     items: [('dipole_total', <HDF5 dataset \"dipole_total\": shape (3,), type \"<f8\">), ('rho_of_r_data', <HDF5 dataset \"rho_of_r_data\": shape (1489817,), type \"<f4\">), ('rho_of_r_index_size', <HDF5 dataset \"rho_of_r_index_size\": shape (28540,), type \"<i4\">)]\n",
      "     attrs: [('alat', 37.87370201713722), ('amass', array([12.011,  1.008, 15.999,  0.   ,  0.   ,  0.   ,  0.   ,  0.   ,\n",
      "        0.   ,  0.   ])), ('cell_vectors', array([[1.        , 0.        , 0.        ],\n",
      "       [0.        , 0.77232199, 0.        ],\n",
      "       [0.        , 0.        , 0.51644804]])), ('grid_dimensions', array([125, 192, 243], dtype=int32)), ('ityp', array([3, 3, 3, 3, 1, 1, 1, 1, 1, 1, 1, 1, 1, 2, 2, 2, 2, 2, 2, 2, 2],\n",
      "      dtype=int32)), ('label_  1', b'C1000'), ('label_  2', b'H1000'), ('label_  3', b'O1000'), ('label_  4', b''), ('label_  5', b''), ('label_  6', b''), ('tau', array([[0.40269136, 0.35653306, 0.26251503],\n",
      "       [0.30646795, 0.19343475, 0.1862049 ],\n",
      "       [0.38086209, 0.2199043 , 0.2669707 ],\n",
      "       [0.43003408, 0.36933125, 0.14968641],\n",
      "       [0.33687924, 0.35926733, 0.24560546],\n",
      "       [0.30160314, 0.30137362, 0.22984348],\n",
      "       [0.30479146, 0.42101797, 0.24425828],\n",
      "       [0.23424925, 0.30523553, 0.21273931],\n",
      "       [0.23743757, 0.42487988, 0.2271591 ],\n",
      "       [0.20217145, 0.36699115, 0.21139712],\n",
      "       [0.33412501, 0.23640473, 0.23100604],\n",
      "       [0.44640478, 0.36239578, 0.20810402],\n",
      "       [0.51731123, 0.3588083 , 0.23179439],\n",
      "       [0.33191963, 0.46632804, 0.25653256],\n",
      "       [0.2052051 , 0.26100819, 0.20086419],\n",
      "       [0.21243994, 0.47294917, 0.22616119],\n",
      "       [0.14968641, 0.36999486, 0.19823969],\n",
      "       [0.52721548, 0.39966271, 0.26651166],\n",
      "       [0.55094078, 0.36366313, 0.18908886],\n",
      "       [0.52629242, 0.31063422, 0.25569931],\n",
      "       [0.32840699, 0.14968641, 0.18702818]])), ('zv', array([4., 1., 6., 0., 0., 0., 0., 0., 0., 0.]))]\n",
      "     compress_ratio: 0.26034927983539097\n",
      "               \n",
      "[  17358       9   17597 ...      15 5812181       7]\n"
     ]
    }
   ],
   "source": [
    "dens = qer.Density('./test_c.hdf5')"
   ]
  },
  {
   "cell_type": "code",
   "execution_count": 3,
   "id": "2975945b-996a-4e71-b474-6a8a08a64e5d",
   "metadata": {},
   "outputs": [
    {
     "name": "stderr",
     "output_type": "stream",
     "text": [
      "/scratch/rbertoss/aspirina/venv/lib/python3.10/site-packages/k3d/objects.py:1328: UserWarning: wrong dtype: float64 ([<class 'numpy.float16'>, <class 'numpy.float32'>] required)\n",
      "  warnings.warn(\"wrong dtype: %s (%s required)\" % (actual, required))\n",
      "/scratch/rbertoss/aspirina/venv/lib/python3.10/site-packages/traittypes/traittypes.py:97: UserWarning: Given trait value dtype \"float64\" does not match required type \"float32\". A coerced copy has been created.\n",
      "  warnings.warn(\n"
     ]
    },
    {
     "data": {
      "application/vnd.jupyter.widget-view+json": {
       "model_id": "90b4f5b15685494387e83fe21a4ae5f2",
       "version_major": 2,
       "version_minor": 0
      },
      "text/plain": [
       "Output()"
      ]
     },
     "metadata": {},
     "output_type": "display_data"
    }
   ],
   "source": [
    "dens.display()"
   ]
  },
  {
   "cell_type": "code",
   "execution_count": 4,
   "id": "0c791f3f-8096-4d31-80f4-e2cb32c2734c",
   "metadata": {},
   "outputs": [
    {
     "data": {
      "text/plain": [
       "array([-23.75949688,   0.03053371,  12.26887576])"
      ]
     },
     "execution_count": 4,
     "metadata": {},
     "output_type": "execute_result"
    }
   ],
   "source": [
    "np.array(dens.hdf5file.get('dipole_total'))"
   ]
  },
  {
   "cell_type": "code",
   "execution_count": 11,
   "id": "35135099-70bc-4e39-bfeb-7c6a4e022d5e",
   "metadata": {},
   "outputs": [],
   "source": [
    "#dens.write_compressed_hdf5('test_c.hdf5')"
   ]
  }
 ],
 "metadata": {
  "kernelspec": {
   "display_name": "Python 3 (ipykernel)",
   "language": "python",
   "name": "python3"
  },
  "language_info": {
   "codemirror_mode": {
    "name": "ipython",
    "version": 3
   },
   "file_extension": ".py",
   "mimetype": "text/x-python",
   "name": "python",
   "nbconvert_exporter": "python",
   "pygments_lexer": "ipython3",
   "version": "3.10.8"
  }
 },
 "nbformat": 4,
 "nbformat_minor": 5
}
